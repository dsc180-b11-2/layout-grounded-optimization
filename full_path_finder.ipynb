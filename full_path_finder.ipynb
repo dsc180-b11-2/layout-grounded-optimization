{
 "cells": [
  {
   "cell_type": "code",
   "execution_count": 1,
   "id": "dea00d06-d31e-4004-a5bf-69f19d573e9d",
   "metadata": {},
   "outputs": [
    {
     "name": "stdout",
     "output_type": "stream",
     "text": [
      "The absolute path of the file is: /mnt/hd1/jwsong/LLM-groundedDiffusion/canvas_input/data.json\n"
     ]
    }
   ],
   "source": [
    "import os\n",
    "\n",
    "# Suppose you have a relative path to your file\n",
    "relative_path = 'canvas_input/data.json'\n",
    "\n",
    "# Get the absolute path\n",
    "absolute_path = os.path.abspath(relative_path)\n",
    "\n",
    "print(f\"The absolute path of the file is: {absolute_path}\")\n"
   ]
  },
  {
   "cell_type": "code",
   "execution_count": null,
   "id": "08aeb4d1-93b4-4e1c-a768-748c189992f2",
   "metadata": {},
   "outputs": [],
   "source": []
  }
 ],
 "metadata": {
  "kernelspec": {
   "display_name": "Python 3 (ipykernel)",
   "language": "python",
   "name": "python3"
  },
  "language_info": {
   "codemirror_mode": {
    "name": "ipython",
    "version": 3
   },
   "file_extension": ".py",
   "mimetype": "text/x-python",
   "name": "python",
   "nbconvert_exporter": "python",
   "pygments_lexer": "ipython3",
   "version": "3.10.13"
  }
 },
 "nbformat": 4,
 "nbformat_minor": 5
}
